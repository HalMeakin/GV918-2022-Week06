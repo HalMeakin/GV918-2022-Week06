{
  "nbformat": 4,
  "nbformat_minor": 0,
  "metadata": {
    "colab": {
      "provenance": [],
      "collapsed_sections": []
    },
    "kernelspec": {
      "name": "python3",
      "display_name": "Python 3"
    }
  },
  "cells": [
    {
      "cell_type": "markdown",
      "metadata": {
        "id": "h4t5FqMBwlCy"
      },
      "source": [
        "# Tasks\n",
        "\n",
        "We will be keep working on the list of Member of the European Parliament (https://www.europarl.europa.eu/meps/en/full-list/a)\n",
        "\n",
        "We will:\n",
        "\n",
        "\n",
        "1. construct a function to fetch information from each page\n",
        "2. combine dataframes \n",
        "3. visit individual member pages and extract additional information\n",
        "\n",
        "\n",
        "\n"
      ]
    },
    {
      "cell_type": "markdown",
      "metadata": {
        "id": "vGWGL24Uw2fC"
      },
      "source": [
        "# Load packages"
      ]
    },
    {
      "cell_type": "code",
      "metadata": {
        "id": "38aSBQGpw2Fm"
      },
      "source": [
        "from urllib.request import urlopen\n",
        "from bs4 import BeautifulSoup\n",
        "import pandas as pd\n",
        "from time import sleep\n",
        "import re"
      ],
      "execution_count": null,
      "outputs": []
    },
    {
      "cell_type": "markdown",
      "metadata": {
        "id": "bbs0ztWLy6ko"
      },
      "source": [
        "# Construct a function to extract information from each page\n",
        "\n",
        "Below is the script from the demo. What we do now is to construct a function for that. What the argument of this function should be?\n"
      ]
    },
    {
      "cell_type": "code",
      "metadata": {
        "id": "5d_DIDE6y6Ap"
      },
      "source": [
        "\n",
        "url = \"https://www.europarl.europa.eu/meps/en/full-list/a\"\n",
        "html = urlopen(url)\n",
        "bs = BeautifulSoup(html, \"html.parser\")\n",
        "\n",
        "name_tags = bs.select('#docMembersList .t-item')\n",
        "mep_name = [item.get_text().strip() for item in name_tags]\n",
        "\n",
        "mep_name\n",
        "\n",
        "\"\"\"## Extract political groups and country names\"\"\"\n",
        "\n",
        "group_and_country = [item.get_text().strip() for item in bs.select('.sln-additional-info.mb-25')]\n",
        "group_and_country\n",
        "\n",
        "len(group_and_country)\n",
        "\n",
        "\n",
        "\n",
        "mep_group = [text for i, text in enumerate(group_and_country) if i % 2 == 0]\n",
        "mep_group\n",
        "\n",
        "country = [text for i, text in enumerate(group_and_country) if i % 2 == 1]\n",
        "country\n",
        "\n",
        "\"\"\"## Extract party name\"\"\"\n",
        "\n",
        "items = [item.get_text().strip() for item in bs.select('.erpl_member-list-item-content .sln-additional-info')]\n",
        "party_name = [text for i, text in enumerate(items) if i % 3 == 2]\n",
        "party_name\n",
        "\n",
        "\"\"\"## Extract link to the individual pages\"\"\"\n",
        "\n",
        "first_item = bs.select('a.erpl_member-list-item-content')[0]\n",
        "\n",
        "first_item['href']\n",
        "\n",
        "page_url = [item['href'] for item in bs.select('a.erpl_member-list-item-content')]\n",
        "\n",
        "\"\"\"## Combine\"\"\"\n",
        "\n",
        "df_meps = pd.DataFrame(mep_name, columns = ['mep_name'])\n",
        "\n",
        "df_meps.head()\n",
        "\n",
        "df_meps['group'] = mep_group\n",
        "df_meps['country'] = country\n",
        "df_meps['party'] = party_name\n",
        "df_meps['page_url'] = page_url\n",
        "df_meps.head()"
      ],
      "execution_count": null,
      "outputs": []
    },
    {
      "cell_type": "code",
      "source": [
        "def fetch_page(letter):\n",
        "  df_meps = pd.DataFrame()\n",
        "  return(df_meps)\n"
      ],
      "metadata": {
        "id": "hvcB3A9BPD5E"
      },
      "execution_count": null,
      "outputs": []
    },
    {
      "cell_type": "code",
      "source": [
        "fetch_page('b')"
      ],
      "metadata": {
        "id": "qcaWkZDgPeFy"
      },
      "execution_count": null,
      "outputs": []
    },
    {
      "cell_type": "markdown",
      "source": [],
      "metadata": {
        "id": "N_oO-zLqPDhP"
      }
    },
    {
      "cell_type": "markdown",
      "metadata": {
        "id": "r9is0zZamrvB"
      },
      "source": [
        "# Explore the rest of pages\n",
        "\n",
        "- Now, let's go over all alphabets\n",
        "- We can do list comprehension or loop\n"
      ]
    },
    {
      "cell_type": "code",
      "source": [
        "import string\n",
        "alphabets = list(string.ascii_lowercase)"
      ],
      "metadata": {
        "id": "u1zDWyunP2fk"
      },
      "execution_count": null,
      "outputs": []
    },
    {
      "cell_type": "markdown",
      "metadata": {
        "id": "4-OH3nZMj9xp"
      },
      "source": [
        "## Using `for`-loop"
      ]
    },
    {
      "cell_type": "code",
      "metadata": {
        "id": "zIz8_3ALj9Qe"
      },
      "source": [],
      "execution_count": null,
      "outputs": []
    },
    {
      "cell_type": "markdown",
      "metadata": {
        "id": "CM_3Vi45rFtZ"
      },
      "source": [
        "## Using list comprehension"
      ]
    },
    {
      "cell_type": "code",
      "metadata": {
        "id": "i_JoZCm_kF3_"
      },
      "source": [],
      "execution_count": null,
      "outputs": []
    },
    {
      "cell_type": "markdown",
      "metadata": {
        "id": "ffwgVYMLy8a4"
      },
      "source": [
        "# Visit individual page and get some information\n",
        "\n",
        "For example:\n",
        "\n",
        "- https://www.europarl.europa.eu/meps/en/197393"
      ]
    },
    {
      "cell_type": "code",
      "metadata": {
        "id": "jgvpZE_Wy1sg"
      },
      "source": [
        "bs = BeautifulSoup(urlopen('https://www.europarl.europa.eu/meps/en/197393'), 'html.parser')"
      ],
      "execution_count": null,
      "outputs": []
    },
    {
      "cell_type": "markdown",
      "source": [
        "Let's try to get the internet accounts for a MEP\n",
        "\n",
        "- email\n",
        "- website\n",
        "- twitter\n",
        "- fb\n",
        "- instagram"
      ],
      "metadata": {
        "id": "pzNPo6TLydEs"
      }
    },
    {
      "cell_type": "code",
      "source": [
        "def get_attr(mep_id, cl_name):\n",
        "  return(out)"
      ],
      "metadata": {
        "id": "jlrbTpggSreW"
      },
      "execution_count": null,
      "outputs": []
    },
    {
      "cell_type": "code",
      "source": [
        "#links = {cl: get_attr(cl) for cl in ['link_email', 'link_website', 'link_twitt', 'link_fb', 'link_instagram'] }"
      ],
      "metadata": {
        "id": "eGtdpR8M0WOp"
      },
      "execution_count": null,
      "outputs": []
    },
    {
      "cell_type": "code",
      "source": [],
      "metadata": {
        "id": "tczlGp8608hh"
      },
      "execution_count": null,
      "outputs": []
    },
    {
      "cell_type": "markdown",
      "metadata": {
        "id": "XW6cEwUD07n_"
      },
      "source": [
        "## Combine the previous steps as a function"
      ]
    },
    {
      "cell_type": "code",
      "metadata": {
        "id": "dm1G2TAF07aP"
      },
      "source": [],
      "execution_count": null,
      "outputs": []
    },
    {
      "cell_type": "markdown",
      "metadata": {
        "id": "gkWVWtlFLrdI"
      },
      "source": [
        "# Save the data"
      ]
    },
    {
      "cell_type": "code",
      "metadata": {
        "id": "epq4KWBhLrMW"
      },
      "source": [],
      "execution_count": null,
      "outputs": []
    }
  ]
}