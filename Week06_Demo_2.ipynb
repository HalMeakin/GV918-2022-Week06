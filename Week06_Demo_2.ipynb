{
  "nbformat": 4,
  "nbformat_minor": 0,
  "metadata": {
    "colab": {
      "provenance": [],
      "collapsed_sections": [],
      "toc_visible": true
    },
    "kernelspec": {
      "name": "python3",
      "display_name": "Python 3"
    }
  },
  "cells": [
    {
      "cell_type": "markdown",
      "metadata": {
        "id": "h4t5FqMBwlCy"
      },
      "source": [
        "# Tasks\n",
        "\n",
        "In this part of demo, we will extract information from two websites:\n",
        "\n",
        "- https://en.wikipedia.org/wiki/International_court\n",
        "- https://members.parliament.uk/members/commons\n"
      ]
    },
    {
      "cell_type": "markdown",
      "metadata": {
        "id": "vGWGL24Uw2fC"
      },
      "source": [
        "# Load packages"
      ]
    },
    {
      "cell_type": "code",
      "source": [
        "from urllib.request import urlopen, Request\n",
        "from bs4 import BeautifulSoup\n",
        "import pandas as pd"
      ],
      "metadata": {
        "id": "tToK3GNtCkXg"
      },
      "execution_count": null,
      "outputs": []
    },
    {
      "cell_type": "markdown",
      "metadata": {
        "id": "Y_z5aTZxw5X-"
      },
      "source": [
        "# International court \n",
        "\n",
        "- Scenario 1"
      ]
    },
    {
      "cell_type": "markdown",
      "metadata": {
        "id": "CyVrdZBkxBfM"
      },
      "source": [
        "## Extract the first tables using `pandas`"
      ]
    },
    {
      "cell_type": "code",
      "metadata": {
        "id": "V7aje6vgwgf8"
      },
      "source": [
        "df_tables = pd.read_html(\"https://en.wikipedia.org/wiki/International_court\")"
      ],
      "execution_count": null,
      "outputs": []
    },
    {
      "cell_type": "code",
      "metadata": {
        "id": "fyyiPu0w7EBg"
      },
      "source": [
        "len(df_tables)"
      ],
      "execution_count": null,
      "outputs": []
    },
    {
      "cell_type": "code",
      "metadata": {
        "id": "ki42AGjE7GIu"
      },
      "source": [
        "df_ic = df_tables[0]"
      ],
      "execution_count": null,
      "outputs": []
    },
    {
      "cell_type": "code",
      "metadata": {
        "id": "4yRnJezY7IOw"
      },
      "source": [
        "df_ic"
      ],
      "execution_count": null,
      "outputs": []
    },
    {
      "cell_type": "markdown",
      "metadata": {
        "id": "095hsXG8xGKL"
      },
      "source": [
        "## Text modifying\n",
        "\n",
        "We will try to extract the year of foundation."
      ]
    },
    {
      "cell_type": "markdown",
      "metadata": {
        "id": "7XFpt13exbhK"
      },
      "source": [
        "### Simple method"
      ]
    },
    {
      "cell_type": "code",
      "metadata": {
        "id": "Uu96tJUvxaht"
      },
      "source": [
        "df_ic['Founded'] = df_ic['Years active'].str.slice(0,4).astype('int')"
      ],
      "execution_count": null,
      "outputs": []
    },
    {
      "cell_type": "markdown",
      "metadata": {
        "id": "nzHUSgIbxedx"
      },
      "source": [
        "### Using regular expression\n",
        "\n",
        "Regular expression is really a powerful tool for extracting/modifying text in programming. There are several great introductions:\n",
        "\n",
        "1. LinkedIn Learning (NLP with Python for Machine Learning Essential Training)\n",
        "  - https://www.linkedin.com/learning/nlp-with-python-for-machine-learning-essential-training/what-are-regular-expressions\n",
        "  - https://www.linkedin.com/learning/nlp-with-python-for-machine-learning-essential-training/learning-how-to-use-regular-expressions\n",
        "  - https://www.linkedin.com/learning/nlp-with-python-for-machine-learning-essential-training/regular-expression-replacements\n",
        "\n",
        "2. YouTube\n",
        "  - https://www.youtube.com/watch?v=K8L6KVGG-7o"
      ]
    },
    {
      "cell_type": "code",
      "metadata": {
        "id": "rzPu0B4XxhOp"
      },
      "source": [
        "df_ic['Years active'].str.extract(r'^(\\d{4})(.+)')"
      ],
      "execution_count": null,
      "outputs": []
    },
    {
      "cell_type": "code",
      "metadata": {
        "id": "W8d3A7Ke-J6k"
      },
      "source": [
        "df_ic['Founded'] = df_ic['Years active'].str.extract(r'^(\\d{4})').astype(int)"
      ],
      "execution_count": null,
      "outputs": []
    },
    {
      "cell_type": "code",
      "metadata": {
        "id": "dwevAD_0-Vf0"
      },
      "source": [
        "df_ic"
      ],
      "execution_count": null,
      "outputs": []
    },
    {
      "cell_type": "markdown",
      "metadata": {
        "id": "9aGfL1UW-Uq2"
      },
      "source": []
    },
    {
      "cell_type": "markdown",
      "metadata": {
        "id": "KX70K45rzvM7"
      },
      "source": [
        "## Save the data"
      ]
    },
    {
      "cell_type": "code",
      "metadata": {
        "id": "Q-vuZccvzu9C"
      },
      "source": [
        "df_ic.to_csv(\"data_iternational_court.csv\")"
      ],
      "execution_count": null,
      "outputs": []
    },
    {
      "cell_type": "markdown",
      "metadata": {
        "id": "c4gvELbYy2J3"
      },
      "source": [
        "# List of MEPs\n",
        "\n",
        "In this part of demo, we will create a list of the Members of European Parliament (MEPs). \n",
        "\n",
        "The base url (list of MEPs with family name starting with letter 'a') is here: \n",
        "https://www.europarl.europa.eu/meps/en/full-list/a"
      ]
    },
    {
      "cell_type": "markdown",
      "metadata": {
        "id": "bbs0ztWLy6ko"
      },
      "source": [
        "## Extract names\n",
        "\n",
        "- Scenario 2"
      ]
    },
    {
      "cell_type": "code",
      "metadata": {
        "id": "5d_DIDE6y6Ap"
      },
      "source": [
        "url = \"https://www.europarl.europa.eu/meps/en/full-list/a\"\n",
        "html = urlopen(url)\n",
        "bs = BeautifulSoup(html, \"html.parser\")"
      ],
      "execution_count": null,
      "outputs": []
    },
    {
      "cell_type": "code",
      "metadata": {
        "id": "78OLcVsL_TCo"
      },
      "source": [],
      "execution_count": null,
      "outputs": []
    },
    {
      "cell_type": "code",
      "metadata": {
        "id": "eey0FN7n_jaF"
      },
      "source": [
        "name_tags = bs.select('#docMembersList .t-item')\n",
        "mep_name = [item.get_text().strip() for item in name_tags]"
      ],
      "execution_count": null,
      "outputs": []
    },
    {
      "cell_type": "code",
      "source": [
        "mep_name"
      ],
      "metadata": {
        "id": "TlEmvPhn1pa9"
      },
      "execution_count": null,
      "outputs": []
    },
    {
      "cell_type": "markdown",
      "metadata": {
        "id": "ffwgVYMLy8a4"
      },
      "source": [
        "## Extract political groups and country names"
      ]
    },
    {
      "cell_type": "markdown",
      "source": [],
      "metadata": {
        "id": "-Eu2uGsC1tIQ"
      }
    },
    {
      "cell_type": "code",
      "source": [
        "group_and_country = [item.get_text().strip() for item in bs.select('.sln-additional-info.mb-25')]\n",
        "group_and_country"
      ],
      "metadata": {
        "id": "BEW9F56i1tpp"
      },
      "execution_count": null,
      "outputs": []
    },
    {
      "cell_type": "code",
      "source": [
        "len(group_and_country)"
      ],
      "metadata": {
        "id": "r32gi1MB28EK"
      },
      "execution_count": null,
      "outputs": []
    },
    {
      "cell_type": "code",
      "source": [],
      "metadata": {
        "id": "-cAi1mnO3x0Z"
      },
      "execution_count": null,
      "outputs": []
    },
    {
      "cell_type": "code",
      "source": [
        "mep_group = [text for i, text in enumerate(group_and_country) if i % 2 == 0]\n",
        "mep_group"
      ],
      "metadata": {
        "id": "r1VlvWAk3D-J"
      },
      "execution_count": null,
      "outputs": []
    },
    {
      "cell_type": "code",
      "source": [
        "country = [text for i, text in enumerate(group_and_country) if i % 2 == 1]\n",
        "country"
      ],
      "metadata": {
        "id": "cgT3ptY-4lG6"
      },
      "execution_count": null,
      "outputs": []
    },
    {
      "cell_type": "markdown",
      "metadata": {
        "id": "SBu9Hr78zHbi"
      },
      "source": [
        "## Extract party name"
      ]
    },
    {
      "cell_type": "code",
      "metadata": {
        "id": "jgvpZE_Wy1sg"
      },
      "source": [
        "items = [item.get_text().strip() for item in bs.select('.erpl_member-list-item-content .sln-additional-info')]\n",
        "party_name = [text for i, text in enumerate(items) if i % 3 == 2]\n",
        "party_name"
      ],
      "execution_count": null,
      "outputs": []
    },
    {
      "cell_type": "markdown",
      "metadata": {
        "id": "CCS0Mp7lzPRf"
      },
      "source": [
        "## Extract link to the individual pages"
      ]
    },
    {
      "cell_type": "code",
      "metadata": {
        "id": "jU0AW4FozVyD"
      },
      "source": [
        "first_item = bs.select('a.erpl_member-list-item-content')[0]"
      ],
      "execution_count": null,
      "outputs": []
    },
    {
      "cell_type": "code",
      "metadata": {
        "id": "t-eH31T8CC6r"
      },
      "source": [
        "first_item['href']"
      ],
      "execution_count": null,
      "outputs": []
    },
    {
      "cell_type": "code",
      "metadata": {
        "id": "bxjNAbTUCQr3"
      },
      "source": [
        "page_url = [item['href'] for item in bs.select('a.erpl_member-list-item-content')]"
      ],
      "execution_count": null,
      "outputs": []
    },
    {
      "cell_type": "markdown",
      "metadata": {
        "id": "dyquBPsNzX3v"
      },
      "source": [
        "## Combine"
      ]
    },
    {
      "cell_type": "code",
      "metadata": {
        "id": "q5FzDaGHzXif"
      },
      "source": [
        "df_meps = pd.DataFrame(mep_name, columns = ['mep_name'])"
      ],
      "execution_count": null,
      "outputs": []
    },
    {
      "cell_type": "code",
      "source": [
        "df_meps.head()"
      ],
      "metadata": {
        "id": "y5YBZB-68rw0"
      },
      "execution_count": null,
      "outputs": []
    },
    {
      "cell_type": "code",
      "metadata": {
        "id": "_yeUYmhcDIO0"
      },
      "source": [
        "df_meps['group'] = mep_group\n",
        "df_meps['country'] = country\n",
        "df_meps['party'] = party_name\n",
        "df_meps['page_url'] = page_url\n",
        "df_meps.head()"
      ],
      "execution_count": null,
      "outputs": []
    },
    {
      "cell_type": "markdown",
      "metadata": {
        "id": "j28wbd97zqVZ"
      },
      "source": [
        "## Save the data"
      ]
    },
    {
      "cell_type": "code",
      "metadata": {
        "id": "03geCIe3zsES"
      },
      "source": [
        "df_meps.to_csv(\"data_mep_list_a.csv\")"
      ],
      "execution_count": null,
      "outputs": []
    }
  ]
}